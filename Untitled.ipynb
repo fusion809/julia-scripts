{
 "cells": [
  {
   "cell_type": "code",
   "execution_count": 9,
   "metadata": {},
   "outputs": [
    {
     "name": "stderr",
     "output_type": "stream",
     "text": [
      "\u001b[32m\u001b[1m  Resolving\u001b[22m\u001b[39m package versions...\n",
      "\u001b[32m\u001b[1m   Updating\u001b[22m\u001b[39m `~/.julia/environments/v1.4/Project.toml`\n",
      "\u001b[90m [no changes]\u001b[39m\n",
      "\u001b[32m\u001b[1m   Updating\u001b[22m\u001b[39m `~/.julia/environments/v1.4/Manifest.toml`\n",
      "\u001b[90m [no changes]\u001b[39m\n",
      "\u001b[32m\u001b[1m  Resolving\u001b[22m\u001b[39m package versions...\n",
      "\u001b[32m\u001b[1m   Updating\u001b[22m\u001b[39m `~/.julia/environments/v1.4/Project.toml`\n",
      "\u001b[90m [no changes]\u001b[39m\n",
      "\u001b[32m\u001b[1m   Updating\u001b[22m\u001b[39m `~/.julia/environments/v1.4/Manifest.toml`\n",
      "\u001b[90m [no changes]\u001b[39m\n",
      "\u001b[32m\u001b[1m  Resolving\u001b[22m\u001b[39m package versions...\n",
      "\u001b[32m\u001b[1m   Updating\u001b[22m\u001b[39m `~/.julia/environments/v1.4/Project.toml`\n",
      "\u001b[90m [no changes]\u001b[39m\n",
      "\u001b[32m\u001b[1m   Updating\u001b[22m\u001b[39m `~/.julia/environments/v1.4/Manifest.toml`\n",
      "\u001b[90m [no changes]\u001b[39m\n"
     ]
    },
    {
     "name": "stdout",
     "output_type": "stream",
     "text": [
      "421.034475 seconds (15.00 G allocations: 238.599 GiB, 5.35% gc time)\n"
     ]
    },
    {
     "data": {
      "text/plain": [
       "0.0001331951121890107"
      ]
     },
     "execution_count": 9,
     "metadata": {},
     "output_type": "execute_result"
    }
   ],
   "source": [
    "@time include(\"Simpson's_rule_pendulum_integral.jl\")"
   ]
  },
  {
   "cell_type": "code",
   "execution_count": 11,
   "metadata": {},
   "outputs": [],
   "source": [
    "using FunctionIntegrator"
   ]
  },
  {
   "cell_type": "code",
   "execution_count": 10,
   "metadata": {},
   "outputs": [
    {
     "name": "stdout",
     "output_type": "stream",
     "text": [
      "search: \u001b[0m\u001b[1mc\u001b[22m\u001b[0m\u001b[1mh\u001b[22m\u001b[0m\u001b[1me\u001b[22m\u001b[0m\u001b[1mb\u001b[22m\u001b[0m\u001b[1my\u001b[22m\u001b[0m\u001b[1ms\u001b[22m\u001b[0m\u001b[1mh\u001b[22m\u001b[0m\u001b[1me\u001b[22m\u001b[0m\u001b[1mv\u001b[22m\u001b[0m\u001b[1m_\u001b[22m\u001b[0m\u001b[1mq\u001b[22m\u001b[0m\u001b[1mu\u001b[22m\u001b[0m\u001b[1ma\u001b[22m\u001b[0m\u001b[1md\u001b[22m\u001b[0m\u001b[1mr\u001b[22m\u001b[0m\u001b[1ma\u001b[22m\u001b[0m\u001b[1mt\u001b[22m\u001b[0m\u001b[1mu\u001b[22m\u001b[0m\u001b[1mr\u001b[22m\u001b[0m\u001b[1me\u001b[22m\n",
      "\n"
     ]
    },
    {
     "data": {
      "text/latex": [
       "\\begin{verbatim}\n",
       "chebyshev_quadrature(f::Function, N::Number, k::Integer, a::Number, b::Number)\n",
       "\\end{verbatim}\n",
       "uses \\href{https://en.wikipedia.org/wiki/Chebyshev-Gauss_quadrature}{Chebyshev-Gauss quadrature} to approximate the integral:\n",
       "\n",
       "$\\displaystyle\\int_a^b f(x) dx$.\n",
       "\n",
       "$N$ is the number of nodes (or grid points) used. Whilst the type mentioned in the function definition is just 'Number' (as opposed to 'Integer'), this is just so that scientific notation can be used to define it (as scientific notation gives the type 'Float64'), an error message will be printed if it is not a positive integer. \n",
       "\n",
       "\\texttt{k} determines the kind of the Chebyshev polynomial used in the quadrature.\n",
       "\n",
       "\\begin{itemize}\n",
       "\\item $k=1$ uses Chebyshev polynomials of the first kind $T_n(x)$.\n",
       "\n",
       "\n",
       "\\item $k=2$ uses Chebyshev polynomials of the second kind $U_n(x)$.\n",
       "\n",
       "\n",
       "\\item $k=3$ uses Chebyshev polynomials of the third kind $V_n(x)$.\n",
       "\n",
       "\n",
       "\\item $k=4$ uses Chebyshev polynomials of the fourth kind $W_n(x)$.\n",
       "\n",
       "\\end{itemize}\n"
      ],
      "text/markdown": [
       "```\n",
       "chebyshev_quadrature(f::Function, N::Number, k::Integer, a::Number, b::Number)\n",
       "```\n",
       "\n",
       "uses [Chebyshev-Gauss quadrature](https://en.wikipedia.org/wiki/Chebyshev-Gauss_quadrature) to approximate the integral:\n",
       "\n",
       "$\\displaystyle\\int_a^b f(x) dx$.\n",
       "\n",
       "$N$ is the number of nodes (or grid points) used. Whilst the type mentioned in the function definition is just 'Number' (as opposed to 'Integer'), this is just so that scientific notation can be used to define it (as scientific notation gives the type 'Float64'), an error message will be printed if it is not a positive integer. \n",
       "\n",
       "`k` determines the kind of the Chebyshev polynomial used in the quadrature.\n",
       "\n",
       "  * $k=1$ uses Chebyshev polynomials of the first kind $T_n(x)$.\n",
       "  * $k=2$ uses Chebyshev polynomials of the second kind $U_n(x)$.\n",
       "  * $k=3$ uses Chebyshev polynomials of the third kind $V_n(x)$.\n",
       "  * $k=4$ uses Chebyshev polynomials of the fourth kind $W_n(x)$.\n"
      ],
      "text/plain": [
       "\u001b[36m  chebyshev_quadrature(f::Function, N::Number, k::Integer, a::Number, b::Number)\u001b[39m\n",
       "\n",
       "  uses Chebyshev-Gauss quadrature\n",
       "  (https://en.wikipedia.org/wiki/Chebyshev-Gauss_quadrature) to approximate\n",
       "  the integral:\n",
       "\n",
       "  \u001b[35m\\displaystyle\\int_a^b f(x) dx\u001b[39m.\n",
       "\n",
       "  \u001b[35mN\u001b[39m is the number of nodes (or grid points) used. Whilst the type mentioned in\n",
       "  the function definition is just 'Number' (as opposed to 'Integer'), this is\n",
       "  just so that scientific notation can be used to define it (as scientific\n",
       "  notation gives the type 'Float64'), an error message will be printed if it\n",
       "  is not a positive integer. \n",
       "\n",
       "  \u001b[36mk\u001b[39m determines the kind of the Chebyshev polynomial used in the quadrature.\n",
       "\n",
       "    •    \u001b[35mk=1\u001b[39m uses Chebyshev polynomials of the first kind \u001b[35mT_n(x)\u001b[39m.\n",
       "\n",
       "    •    \u001b[35mk=2\u001b[39m uses Chebyshev polynomials of the second kind \u001b[35mU_n(x)\u001b[39m.\n",
       "\n",
       "    •    \u001b[35mk=3\u001b[39m uses Chebyshev polynomials of the third kind \u001b[35mV_n(x)\u001b[39m.\n",
       "\n",
       "    •    \u001b[35mk=4\u001b[39m uses Chebyshev polynomials of the fourth kind \u001b[35mW_n(x)\u001b[39m."
      ]
     },
     "execution_count": 10,
     "metadata": {},
     "output_type": "execute_result"
    }
   ],
   "source": [
    "?chebyshev_quadrature"
   ]
  },
  {
   "cell_type": "code",
   "execution_count": null,
   "metadata": {},
   "outputs": [],
   "source": []
  }
 ],
 "metadata": {
  "kernelspec": {
   "display_name": "Julia 1.4.2",
   "language": "julia",
   "name": "julia-1.4"
  },
  "language_info": {
   "file_extension": ".jl",
   "mimetype": "application/julia",
   "name": "julia",
   "version": "1.6.0"
  }
 },
 "nbformat": 4,
 "nbformat_minor": 4
}
