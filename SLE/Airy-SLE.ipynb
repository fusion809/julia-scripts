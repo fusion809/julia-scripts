{
 "cells": [
  {
   "cell_type": "code",
   "execution_count": null,
   "metadata": {},
   "outputs": [],
   "source": [
    "# Airy problem solved using the rational transformation on the semi-infinite\n",
    "# domain that is listed in Boyd, 2000\n",
    "@time include(\"airy-rat.jl\")"
   ]
  },
  {
   "cell_type": "code",
   "execution_count": 1,
   "metadata": {},
   "outputs": [
    {
     "name": "stderr",
     "output_type": "stream",
     "text": [
      "\u001b[32m\u001b[1m   Updating\u001b[22m\u001b[39m registry at `~/.julia/registries/General`\n"
     ]
    },
    {
     "name": "stdout",
     "output_type": "stream",
     "text": [
      "\u001b[?25l\u001b[2K"
     ]
    },
    {
     "name": "stderr",
     "output_type": "stream",
     "text": [
      "\u001b[32m\u001b[1m   Updating\u001b[22m\u001b[39m git-repo `https://github.com/JuliaRegistries/General.git`\n"
     ]
    },
    {
     "name": "stdout",
     "output_type": "stream",
     "text": [
      "\u001b[?25h"
     ]
    },
    {
     "name": "stderr",
     "output_type": "stream",
     "text": [
      "\u001b[32m\u001b[1m  Resolving\u001b[22m\u001b[39m package versions...\n",
      "\u001b[32m\u001b[1m   Updating\u001b[22m\u001b[39m `/data/.julia-20190315/environments/v1.4/Project.toml`\n",
      "\u001b[90m [no changes]\u001b[39m\n",
      "\u001b[32m\u001b[1m   Updating\u001b[22m\u001b[39m `/data/.julia-20190315/environments/v1.4/Manifest.toml`\n",
      "\u001b[90m [no changes]\u001b[39m\n",
      "\u001b[32m\u001b[1m  Resolving\u001b[22m\u001b[39m package versions...\n",
      "\u001b[32m\u001b[1m   Updating\u001b[22m\u001b[39m `/data/.julia-20190315/environments/v1.4/Project.toml`\n",
      "\u001b[90m [no changes]\u001b[39m\n",
      "\u001b[32m\u001b[1m   Updating\u001b[22m\u001b[39m `/data/.julia-20190315/environments/v1.4/Manifest.toml`\n",
      "\u001b[90m [no changes]\u001b[39m\n",
      "\u001b[32m\u001b[1m  Resolving\u001b[22m\u001b[39m package versions...\n",
      "\u001b[32m\u001b[1m   Updating\u001b[22m\u001b[39m `/data/.julia-20190315/environments/v1.4/Project.toml`\n",
      "\u001b[90m [no changes]\u001b[39m\n",
      "\u001b[32m\u001b[1m   Updating\u001b[22m\u001b[39m `/data/.julia-20190315/environments/v1.4/Manifest.toml`\n",
      "\u001b[90m [no changes]\u001b[39m\n"
     ]
    },
    {
     "name": "stdout",
     "output_type": "stream",
     "text": [
      "RMS of eigenvalue error is 1.4796040812203412e-13\n",
      "717.640184 seconds (48.37 M allocations: 20.947 GiB, 0.26% gc time)\n"
     ]
    },
    {
     "data": {
      "text/plain": [
       "PyObject Text(0.5, 1.0, 'Semilog plot of the root mean square of eigenfunction error')"
      ]
     },
     "execution_count": 1,
     "metadata": {},
     "output_type": "execute_result"
    }
   ],
   "source": [
    "@time include(\"airy-linear.jl\")"
   ]
  },
  {
   "cell_type": "code",
   "execution_count": 3,
   "metadata": {},
   "outputs": [
    {
     "data": {
      "text/plain": [
       "PyObject Text(0.5, 1.0, 'Plot of the $200^\\\\mathrm{th}$ eigenfunction, corresponding to $\\\\lambda = $96.0473376')"
      ]
     },
     "execution_count": 3,
     "metadata": {},
     "output_type": "execute_result"
    }
   ],
   "source": [
    "PyPlot.figure(1)\n",
    "PyPlot.xlim((y[1],y[801]))\n",
    "PyPlot.plot(y[1:801],eigenfunction_approx[1:801,1])\n",
    "PyPlot.title(latexstring(\"Plot of the \", L\"1^\\mathrm{st}\", \" eigenfunction, corresponding to \", L\"\\lambda = \", \n",
    "@sprintf(\"%.10g\", eigenvalue_approx[1])))\n",
    "PyPlot.figure(2)\n",
    "PyPlot.xlim((y[1],y[1201]))\n",
    "PyPlot.plot(y[1:1201],eigenfunction_approx[1:1201,10])\n",
    "PyPlot.title(latexstring(\"Plot of the \", L\"10^\\mathrm{th}\", \" eigenfunction, corresponding to \", L\"\\lambda = \", \n",
    "@sprintf(\"%.10g\", eigenvalue_approx[10])))\n",
    "PyPlot.figure(3)\n",
    "PyPlot.xlim((y[1],y[2501]))\n",
    "PyPlot.plot(y[1:2501],eigenfunction_approx[1:2501,100])\n",
    "PyPlot.title(latexstring(\"Plot of the \", L\"100^\\mathrm{th}\", \" eigenfunction, corresponding to \", L\"\\lambda = \", \n",
    "@sprintf(\"%.10g\", eigenvalue_approx[100])))\n",
    "PyPlot.figure(4)\n",
    "PyPlot.xlim((y[1],y[2501]))\n",
    "PyPlot.plot(y[1:2501],eigenfunction_approx[1:2501,200])\n",
    "PyPlot.title(latexstring(\"Plot of the \", L\"200^\\mathrm{th}\", \" eigenfunction, corresponding to \", L\"\\lambda = \", \n",
    "@sprintf(\"%.10g\", eigenvalue_approx[200])))"
   ]
  },
  {
   "cell_type": "code",
   "execution_count": null,
   "metadata": {},
   "outputs": [],
   "source": []
  }
 ],
 "metadata": {
  "kernelspec": {
   "display_name": "Julia 1.4.2",
   "language": "julia",
   "name": "julia-1.4"
  },
  "language_info": {
   "file_extension": ".jl",
   "mimetype": "application/julia",
   "name": "julia",
   "version": "1.4.2"
  },
  "nteract": {
   "version": "0.23.3"
  }
 },
 "nbformat": 4,
 "nbformat_minor": 4
}
