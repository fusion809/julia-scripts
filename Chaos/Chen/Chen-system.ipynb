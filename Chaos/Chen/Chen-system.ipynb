{
 "cells": [
  {
   "cell_type": "code",
   "execution_count": 1,
   "metadata": {},
   "outputs": [
    {
     "ename": "LoadError",
     "evalue": "LoadError: InterruptException:\nin expression starting at /data/fusion809/GitHub/mine/scripts/julia-scripts/Chaos/Chen/RK4Animation.jl:79",
     "output_type": "error",
     "traceback": [
      "LoadError: InterruptException:\nin expression starting at /data/fusion809/GitHub/mine/scripts/julia-scripts/Chaos/Chen/RK4Animation.jl:79",
      "",
      "Stacktrace:",
      " [1] extend_series! at /home/fusion809/.julia/packages/Plots/D7Ica/src/utils.jl:849 [inlined]",
      " [2] push! at /home/fusion809/.julia/packages/Plots/D7Ica/src/utils.jl:829 [inlined]",
      " [3] push! at /home/fusion809/.julia/packages/Plots/D7Ica/src/utils.jl:915 [inlined]",
      " [4] push!(::Plots.Plot{Plots.GRBackend}, ::Float64, ::Float64, ::Float64) at /home/fusion809/.julia/packages/Plots/D7Ica/src/utils.jl:914",
      " [5] macro expansion at /data/fusion809/GitHub/mine/scripts/julia-scripts/Chaos/Chen/RK4Animation.jl:81 [inlined]",
      " [6] top-level scope at /home/fusion809/.julia/packages/Plots/D7Ica/src/animation.jl:183",
      " [7] include(::String) at ./client.jl:457",
      " [8] top-level scope at In[1]:1",
      " [9] execute_code(::String, ::String) at /home/fusion809/.julia/packages/IJulia/rWZ9e/src/execute_request.jl:27",
      " [10] execute_request(::ZMQ.Socket, ::IJulia.Msg) at /home/fusion809/.julia/packages/IJulia/rWZ9e/src/execute_request.jl:86",
      " [11] #invokelatest#1 at ./essentials.jl:710 [inlined]",
      " [12] invokelatest at ./essentials.jl:709 [inlined]",
      " [13] eventloop(::ZMQ.Socket) at /home/fusion809/.julia/packages/IJulia/rWZ9e/src/eventloop.jl:8",
      " [14] (::IJulia.var\"#15#18\")() at ./task.jl:356"
     ]
    }
   ],
   "source": [
    "include(\"RK4Animation.jl\");"
   ]
  },
  {
   "cell_type": "code",
   "execution_count": null,
   "metadata": {},
   "outputs": [],
   "source": []
  }
 ],
 "metadata": {
  "kernelspec": {
   "display_name": "Julia 1.4.2",
   "language": "julia",
   "name": "julia-1.4"
  },
  "language_info": {
   "file_extension": ".jl",
   "mimetype": "application/julia",
   "name": "julia",
   "version": "1.5.2"
  }
 },
 "nbformat": 4,
 "nbformat_minor": 4
}
