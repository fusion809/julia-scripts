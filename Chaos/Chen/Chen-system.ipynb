{
 "cells": [
  {
   "cell_type": "code",
   "execution_count": null,
   "metadata": {},
   "outputs": [],
   "source": [
    "# This is largely copied from code in the docs:\n",
    "# http://docs.juliaplots.org/latest/ (Author: Thomas Breloff)\n",
    "# My attempt at animation failed see Lorenz.jl and \n",
    "# https://discourse.julialang.org/t/how-to-create-an-animation-based-on-t-x-y-and-z-data/25672/4\n",
    "# define the Chen attractor\n",
    "using Plots;\n",
    "mutable struct Chen\n",
    "    dt; a; b; c; x; y; z\n",
    "end\n",
    "\n",
    "function step!(l::Chen)\n",
    "    dx = l.a*(l.y-l.x)                           ; l.x += l.dt * dx\n",
    "    dy = (l.c-l.a)*l.x-l.x*l.z + l.c*l.y         ; l.y += l.dt * dy\n",
    "    dz = l.x*l.y-l.b*l.z                         ; l.z += l.dt * dz\n",
    "end\n",
    "\n",
    "attractor = Chen((dt = 0.001, a = 40, b = 3, c = 28, x = -0.1, y = 0.5, z = -0.6)...)\n",
    "\n",
    "# initialize a 3D plot with 1 empty series\n",
    "plt = plot3d(1, xlim=(-25,25), ylim=(-30,25), zlim=(0,60),\n",
    "                title = \"Chen Attractor\", marker = 2,\n",
    "                legendfontsize = 20,\n",
    "                guidefontsize = 20,\n",
    "                xlabel=\"x\",\n",
    "                ylabel=\"y\",\n",
    "                zlabel=\"z\",\n",
    "                size=(1920, 1080),\n",
    "                label=\"\")\n",
    "\n",
    "# build an animated gif by pushing new points to the plot, saving every 10th frame\n",
    "@gif for i=1:30000\n",
    "    step!(attractor)\n",
    "    push!(plt, attractor.x, attractor.y, attractor.z)\n",
    "end every 30"
   ]
  },
  {
   "cell_type": "code",
   "execution_count": null,
   "metadata": {},
   "outputs": [],
   "source": []
  }
 ],
 "metadata": {
  "kernelspec": {
   "display_name": "Julia 1.1.1",
   "language": "julia",
   "name": "julia-1.1"
  },
  "language_info": {
   "name": ""
  }
 },
 "nbformat": 4,
 "nbformat_minor": 4
}
