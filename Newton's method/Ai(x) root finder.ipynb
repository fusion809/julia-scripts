{
 "cells": [
  {
   "cell_type": "code",
   "execution_count": 7,
   "metadata": {},
   "outputs": [
    {
     "name": "stdout",
     "output_type": "stream",
     "text": [
      "3 iterations were used.\n",
      "x is -2.338107410459764.\n",
      "diffn is 1.779685818441173e-16.\n"
     ]
    }
   ],
   "source": [
    "using SpecialFunctions;\n",
    "x = -2.338;\n",
    "i = 0;\n",
    "diffn = airyai(x)/airyaiprime(x);\n",
    "\n",
    "while abs(diffn) > 1e-15\n",
    "    diffn = airyai(x)/airyaiprime(x);\n",
    "    x    += -diffn;\n",
    "    i    += 1;\n",
    "end\n",
    "\n",
    "println(\"$(i) iterations were used.\")\n",
    "println(\"x is $(x).\")\n",
    "println(\"diffn is $(diffn).\")"
   ]
  }
 ],
 "metadata": {
  "kernelspec": {
   "display_name": "Julia 1.4.2",
   "language": "julia",
   "name": "julia-1.4"
  },
  "language_info": {
   "file_extension": ".jl",
   "mimetype": "application/julia",
   "name": "julia",
   "version": "1.4.2"
  }
 },
 "nbformat": 4,
 "nbformat_minor": 4
}
