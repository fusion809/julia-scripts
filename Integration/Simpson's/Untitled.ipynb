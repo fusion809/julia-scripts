{
 "cells": [
  {
   "cell_type": "code",
   "execution_count": 1,
   "metadata": {},
   "outputs": [
    {
     "name": "stderr",
     "output_type": "stream",
     "text": [
      "\u001b[32m\u001b[1m Activating\u001b[22m\u001b[39m environment at `~/.julia/dev/Integration/Project.toml`\n",
      "┌ Info: Precompiling Integration [fe4b9952-3d4b-4d9e-91cb-cb7c9af2aa80]\n",
      "└ @ Base loading.jl:1323\n"
     ]
    }
   ],
   "source": [
    "using Pkg;\n",
    "Pkg.activate(\"/home/fusion809/.julia/dev/Integration\")\n",
    "using Integration;"
   ]
  },
  {
   "cell_type": "code",
   "execution_count": 9,
   "metadata": {},
   "outputs": [],
   "source": [
    "using Integration"
   ]
  },
  {
   "cell_type": "code",
   "execution_count": 2,
   "metadata": {},
   "outputs": [
    {
     "name": "stdout",
     "output_type": "stream",
     "text": [
      "search: \u001b[0m\u001b[1ml\u001b[22m\u001b[0m\u001b[1me\u001b[22m\u001b[0m\u001b[1mg\u001b[22m\u001b[0m\u001b[1me\u001b[22m\u001b[0m\u001b[1mn\u001b[22m\u001b[0m\u001b[1md\u001b[22m\u001b[0m\u001b[1mr\u001b[22m\u001b[0m\u001b[1me\u001b[22m\u001b[0m\u001b[1m_\u001b[22m\u001b[0m\u001b[1mq\u001b[22m\u001b[0m\u001b[1mu\u001b[22m\u001b[0m\u001b[1ma\u001b[22m\u001b[0m\u001b[1md\u001b[22m\u001b[0m\u001b[1mr\u001b[22m\u001b[0m\u001b[1ma\u001b[22m\u001b[0m\u001b[1mt\u001b[22m\u001b[0m\u001b[1mu\u001b[22m\u001b[0m\u001b[1mr\u001b[22m\u001b[0m\u001b[1me\u001b[22m\n",
      "\n"
     ]
    },
    {
     "data": {
      "text/latex": [
       "\\begin{verbatim}\n",
       "legendre_quadrature(f, N, a, b)\n",
       "\\end{verbatim}\n",
       "Uses \\href{https://mathworld.wolfram.com/Legendre-GaussQuadrature.html}{Legendre-Gauss quadrature} to approximate:\n",
       "\n",
       "$\\displaystyle \\int_a^b f(x) dx$.\n",
       "\n",
       "The argument \\texttt{N} refers to the number of nodes used in the quadrature.\n",
       "\n"
      ],
      "text/markdown": [
       "```\n",
       "legendre_quadrature(f, N, a, b)\n",
       "```\n",
       "\n",
       "Uses [Legendre-Gauss quadrature](https://mathworld.wolfram.com/Legendre-GaussQuadrature.html) to approximate:\n",
       "\n",
       "$\\displaystyle \\int_a^b f(x) dx$.\n",
       "\n",
       "The argument `N` refers to the number of nodes used in the quadrature.\n"
      ],
      "text/plain": [
       "\u001b[36m  legendre_quadrature(f, N, a, b)\u001b[39m\n",
       "\n",
       "  Uses Legendre-Gauss quadrature\n",
       "  (https://mathworld.wolfram.com/Legendre-GaussQuadrature.html) to\n",
       "  approximate:\n",
       "\n",
       "  \u001b[35m\\displaystyle \\int_a^b f(x) dx\u001b[39m.\n",
       "\n",
       "  The argument \u001b[36mN\u001b[39m refers to the number of nodes used in the quadrature."
      ]
     },
     "execution_count": 2,
     "metadata": {},
     "output_type": "execute_result"
    }
   ],
   "source": [
    "?legendre_quadrature"
   ]
  },
  {
   "cell_type": "code",
   "execution_count": 3,
   "metadata": {},
   "outputs": [
    {
     "name": "stdout",
     "output_type": "stream",
     "text": [
      "search: \u001b[0m\u001b[1mc\u001b[22m\u001b[0m\u001b[1mh\u001b[22m\u001b[0m\u001b[1me\u001b[22m\u001b[0m\u001b[1mb\u001b[22m\u001b[0m\u001b[1my\u001b[22m\u001b[0m\u001b[1ms\u001b[22m\u001b[0m\u001b[1mh\u001b[22m\u001b[0m\u001b[1me\u001b[22m\u001b[0m\u001b[1mv\u001b[22m\u001b[0m\u001b[1m_\u001b[22m\u001b[0m\u001b[1mq\u001b[22m\u001b[0m\u001b[1mu\u001b[22m\u001b[0m\u001b[1ma\u001b[22m\u001b[0m\u001b[1md\u001b[22m\u001b[0m\u001b[1mr\u001b[22m\u001b[0m\u001b[1ma\u001b[22m\u001b[0m\u001b[1mt\u001b[22m\u001b[0m\u001b[1mu\u001b[22m\u001b[0m\u001b[1mr\u001b[22m\u001b[0m\u001b[1me\u001b[22m\n",
      "\n"
     ]
    },
    {
     "data": {
      "text/latex": [
       "chebyshev\\_quadrature(f, k, N, a, b)\n",
       "\n",
       "Uses Chebyshev-Gauss quadrature to approximate the integral:\n",
       "\n",
       "$\\displaystyle\\int_a^b f(x) dx$.\n",
       "\n",
       "\\texttt{N} is the number of nodes (or grid points) used. \n",
       "\n",
       "\\texttt{k} is the kind of the Chebyshev polynomial used in the quadrature. If $k=2$, Chebyshev polynomials of the second kind $U_n(x)$ are used; if $k=1$, Chebyshev polynomials of the first kind $T_n(x)$ are used. \n",
       "\n"
      ],
      "text/markdown": [
       "chebyshev_quadrature(f, k, N, a, b)\n",
       "\n",
       "Uses Chebyshev-Gauss quadrature to approximate the integral:\n",
       "\n",
       "$\\displaystyle\\int_a^b f(x) dx$.\n",
       "\n",
       "`N` is the number of nodes (or grid points) used. \n",
       "\n",
       "`k` is the kind of the Chebyshev polynomial used in the quadrature. If $k=2$, Chebyshev polynomials of the second kind $U_n(x)$ are used; if $k=1$, Chebyshev polynomials of the first kind $T_n(x)$ are used. \n"
      ],
      "text/plain": [
       "  chebyshev_quadrature(f, k, N, a, b)\n",
       "\n",
       "  Uses Chebyshev-Gauss quadrature to approximate the integral:\n",
       "\n",
       "  \u001b[35m\\displaystyle\\int_a^b f(x) dx\u001b[39m.\n",
       "\n",
       "  \u001b[36mN\u001b[39m is the number of nodes (or grid points) used. \n",
       "\n",
       "  \u001b[36mk\u001b[39m is the kind of the Chebyshev polynomial used in the quadrature. If \u001b[35mk=2\u001b[39m,\n",
       "  Chebyshev polynomials of the second kind \u001b[35mU_n(x)\u001b[39m are used; if \u001b[35mk=1\u001b[39m, Chebyshev\n",
       "  polynomials of the first kind \u001b[35mT_n(x)\u001b[39m are used. "
      ]
     },
     "execution_count": 3,
     "metadata": {},
     "output_type": "execute_result"
    }
   ],
   "source": [
    "?chebyshev_quadrature"
   ]
  },
  {
   "cell_type": "code",
   "execution_count": 2,
   "metadata": {},
   "outputs": [
    {
     "name": "stdout",
     "output_type": "stream",
     "text": [
      "search: \u001b[0m\u001b[1ms\u001b[22m\u001b[0m\u001b[1mi\u001b[22m\u001b[0m\u001b[1mm\u001b[22m\u001b[0m\u001b[1mp\u001b[22m\u001b[0m\u001b[1ms\u001b[22m\u001b[0m\u001b[1mo\u001b[22m\u001b[0m\u001b[1mn\u001b[22m\u001b[0m\u001b[1ms\u001b[22m\n",
      "\n"
     ]
    },
    {
     "data": {
      "text/latex": [
       "\\begin{verbatim}\n",
       "simpsons(f, N, a, b)\n",
       "\\end{verbatim}\n",
       "Uses \\href{http://mathworld.wolfram.com/SimpsonsRule.html}{Simpson's rule} to approximate:\n",
       "\n",
       "$\\displaystyle\\int_a^b f(x) dx$.\n",
       "\n",
       "$N+1$ steps are used, if endpoints are included. \n",
       "\n"
      ],
      "text/markdown": [
       "```\n",
       "simpsons(f, N, a, b)\n",
       "```\n",
       "\n",
       "Uses [Simpson's rule](http://mathworld.wolfram.com/SimpsonsRule.html) to approximate:\n",
       "\n",
       "$\\displaystyle\\int_a^b f(x) dx$.\n",
       "\n",
       "$N+1$ steps are used, if endpoints are included. \n"
      ],
      "text/plain": [
       "\u001b[36m  simpsons(f, N, a, b)\u001b[39m\n",
       "\n",
       "  Uses Simpson's rule (http://mathworld.wolfram.com/SimpsonsRule.html) to\n",
       "  approximate:\n",
       "\n",
       "  \u001b[35m\\displaystyle\\int_a^b f(x) dx\u001b[39m.\n",
       "\n",
       "  \u001b[35mN+1\u001b[39m steps are used, if endpoints are included. "
      ]
     },
     "execution_count": 2,
     "metadata": {},
     "output_type": "execute_result"
    }
   ],
   "source": [
    "?simpsons"
   ]
  },
  {
   "cell_type": "code",
   "execution_count": 2,
   "metadata": {},
   "outputs": [
    {
     "name": "stdout",
     "output_type": "stream",
     "text": [
      "search: \u001b[0m\u001b[1mt\u001b[22m\u001b[0m\u001b[1mr\u001b[22m\u001b[0m\u001b[1ma\u001b[22m\u001b[0m\u001b[1mp\u001b[22m\u001b[0m\u001b[1me\u001b[22m\u001b[0m\u001b[1mz\u001b[22m\u001b[0m\u001b[1mo\u001b[22m\u001b[0m\u001b[1mi\u001b[22m\u001b[0m\u001b[1md\u001b[22m\u001b[0m\u001b[1ma\u001b[22m\u001b[0m\u001b[1ml\u001b[22m\n",
      "\n"
     ]
    },
    {
     "data": {
      "text/latex": [
       "\\begin{verbatim}\n",
       "trapezoidal(f, N, a, b)\n",
       "\\end{verbatim}\n",
       "Uses the \\href{https://mathworld.wolfram.com/TrapezoidalRule.html}{trapezoidal rule} to approximate:\n",
       "\n",
       "$\\displaystyle\\int_a^b f(x) dx$.\n",
       "\n",
       "$N+1$ steps are used, if endpoints are included. \n",
       "\n"
      ],
      "text/markdown": [
       "```\n",
       "trapezoidal(f, N, a, b)\n",
       "```\n",
       "\n",
       "Uses the [trapezoidal rule](https://mathworld.wolfram.com/TrapezoidalRule.html) to approximate:\n",
       "\n",
       "$\\displaystyle\\int_a^b f(x) dx$.\n",
       "\n",
       "$N+1$ steps are used, if endpoints are included. \n"
      ],
      "text/plain": [
       "\u001b[36m  trapezoidal(f, N, a, b)\u001b[39m\n",
       "\n",
       "  Uses the trapezoidal rule\n",
       "  (https://mathworld.wolfram.com/TrapezoidalRule.html) to approximate:\n",
       "\n",
       "  \u001b[35m\\displaystyle\\int_a^b f(x) dx\u001b[39m.\n",
       "\n",
       "  \u001b[35mN+1\u001b[39m steps are used, if endpoints are included. "
      ]
     },
     "execution_count": 2,
     "metadata": {},
     "output_type": "execute_result"
    }
   ],
   "source": [
    "?trapezoidal"
   ]
  },
  {
   "cell_type": "code",
   "execution_count": null,
   "metadata": {},
   "outputs": [],
   "source": []
  }
 ],
 "metadata": {
  "kernelspec": {
   "display_name": "Julia 1.4.2",
   "language": "julia",
   "name": "julia-1.4"
  },
  "language_info": {
   "file_extension": ".jl",
   "mimetype": "application/julia",
   "name": "julia",
   "version": "1.6.0"
  }
 },
 "nbformat": 4,
 "nbformat_minor": 4
}
