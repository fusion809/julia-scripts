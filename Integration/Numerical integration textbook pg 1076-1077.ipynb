{
 "cells": [
  {
   "cell_type": "markdown",
   "metadata": {},
   "source": [
    "# Q13\n",
    "Use 3-, 3- and 10-point Gaussian quadrature to approximate:\n",
    "\n",
    "$ I = \\displaystyle \\int_0^{\\frac{3\\pi}{2}} \\cos{x} dx$"
   ]
  },
  {
   "cell_type": "code",
   "execution_count": 10,
   "metadata": {},
   "outputs": [
    {
     "name": "stdout",
     "output_type": "stream",
     "text": [
      "int3 is -1.0152507168852947; error3 is 0.015250716885294668\n",
      "int5 is -1.0000063264303087; error5 is 6.326430308734032e-6\n",
      "int10 is -0.9999999999145996; error10 is 8.540035345561137e-11\n"
     ]
    }
   ],
   "source": [
    "xi3=[-0.7745966692; \n",
    "    0; \n",
    "    0.7745966692];\n",
    "wi3 = [0.5555555556 \n",
    "0.8888888889 \n",
    "0.5555555556];\n",
    "a = 0;\n",
    "b = 3*pi/2;\n",
    "ui3 = (b-a)/2*xi3.+(a+b)/2;\n",
    "int3 = (b-a)/2*sum(wi3.*cos.(ui3));\n",
    "\n",
    "xi5 = [-0.9061798459  \n",
    "    -0.5384693101\n",
    "     0.0000000000\n",
    "    0.5384693101\n",
    "    0.9061798459]\n",
    "wi5 = [0.2369268851; \n",
    "    0.4786286705; \n",
    "    0.5688888889; \n",
    "    0.4786286705; \n",
    "    0.2369268851];\n",
    "ui5 = (b-a)/2*xi5.+(a+b)/2;\n",
    "int5 = (b-a)/2*sum(wi5.*cos.(ui5));\n",
    "\n",
    "xi10 = [-0.9739065285;\n",
    "    -0.8650633667;\n",
    "    -0.6794095683;\n",
    "    -0.4333953941; \n",
    "    -0.1488743390;\n",
    "    0.1488743390;\n",
    "    0.4333953941;\n",
    "    0.6794095683;\n",
    "    0.8650633667;\n",
    "    0.9739065285]\n",
    "wi10 = [0.0666713443;\n",
    "    0.1494513492;\n",
    "    0.2190863625;\n",
    "    0.2692667193;\n",
    "    0.2955242247;\n",
    "    0.2955242247;\n",
    "    0.2692667193;\n",
    "    0.2190863625;\n",
    "    0.1494513492;\n",
    "    0.0666713443];\n",
    "\n",
    "ui10 = (b-a)/2*xi10.+(a+b)/2;\n",
    "int10 = (b-a)/2*sum(wi10.*cos.(ui10));\n",
    "\n",
    "error3 = abs(int3 + 1);\n",
    "error5 = abs(int5 + 1);\n",
    "error10 = abs(int10 + 1);\n",
    "println(\"int3 is $(int3); error3 is $(error3)\")\n",
    "println(\"int5 is $(int5); error5 is $(error5)\")\n",
    "println(\"int10 is $(int10); error10 is $(error10)\")"
   ]
  },
  {
   "cell_type": "code",
   "execution_count": 20,
   "metadata": {},
   "outputs": [
    {
     "data": {
      "text/plain": [
       "1.1845248610876704"
      ]
     },
     "execution_count": 20,
     "metadata": {},
     "output_type": "execute_result"
    }
   ],
   "source": [
    "N=20;\n",
    "n=1:N;\n",
    "x = cos.((2*n.-1)/(2*N)*pi);\n",
    "u = (b-a)/2*x.+(a+b)/2;\n",
    "int = (pi^2)/(2*N)*sqrt(l/(2*g))*sum(sqrt.((-(x.^2).+1)./cos.(pi/2*x)))"
   ]
  },
  {
   "cell_type": "code",
   "execution_count": null,
   "metadata": {},
   "outputs": [],
   "source": [
    "1.1505149958732876"
   ]
  }
 ],
 "metadata": {
  "kernelspec": {
   "display_name": "Julia 1.4.2",
   "language": "julia",
   "name": "julia-1.4"
  },
  "language_info": {
   "file_extension": ".jl",
   "mimetype": "application/julia",
   "name": "julia",
   "version": "1.6.0"
  }
 },
 "nbformat": 4,
 "nbformat_minor": 4
}
