{
 "cells": [
  {
   "cell_type": "code",
   "execution_count": null,
   "metadata": {},
   "outputs": [],
   "source": [
    "include(\"Lorenz.jl\")"
   ]
  },
  {
   "cell_type": "code",
   "execution_count": 20,
   "metadata": {},
   "outputs": [
    {
     "name": "stderr",
     "output_type": "stream",
     "text": [
      "\u001b[32m\u001b[1m  Resolving\u001b[22m\u001b[39m package versions...\n",
      "\u001b[32m\u001b[1m   Updating\u001b[22m\u001b[39m `~/.julia/environments/v1.4/Project.toml`\n",
      "\u001b[90m [no changes]\u001b[39m\n",
      "\u001b[32m\u001b[1m   Updating\u001b[22m\u001b[39m `~/.julia/environments/v1.4/Manifest.toml`\n",
      "\u001b[90m [no changes]\u001b[39m\n"
     ]
    },
    {
     "ename": "LoadError",
     "evalue": "PyError ($(Expr(:escape, :(ccall(#= /home/fusion809/.julia/packages/PyCall/zqDXB/src/pyfncall.jl:43 =# @pysym(:PyObject_Call), PyPtr, (PyPtr, PyPtr, PyPtr), o, pyargsptr, kw))))) <class 'ValueError'>\nValueError('input operand has more dimensions than allowed by the axis remapping')\n  File \"/usr/lib/python3.8/site-packages/mpl_toolkits/mplot3d/axes3d.py\", line 1421, in plot\n    zs = np.broadcast_to(zs, len(xs))\n  File \"<__array_function__ internals>\", line 5, in broadcast_to\n  File \"/usr/lib/python3.8/site-packages/numpy/lib/stride_tricks.py\", line 182, in broadcast_to\n    return _broadcast_to(array, shape, subok=subok, readonly=True)\n  File \"/usr/lib/python3.8/site-packages/numpy/lib/stride_tricks.py\", line 125, in _broadcast_to\n    it = np.nditer(\n",
     "output_type": "error",
     "traceback": [
      "PyError ($(Expr(:escape, :(ccall(#= /home/fusion809/.julia/packages/PyCall/zqDXB/src/pyfncall.jl:43 =# @pysym(:PyObject_Call), PyPtr, (PyPtr, PyPtr, PyPtr), o, pyargsptr, kw))))) <class 'ValueError'>\nValueError('input operand has more dimensions than allowed by the axis remapping')\n  File \"/usr/lib/python3.8/site-packages/mpl_toolkits/mplot3d/axes3d.py\", line 1421, in plot\n    zs = np.broadcast_to(zs, len(xs))\n  File \"<__array_function__ internals>\", line 5, in broadcast_to\n  File \"/usr/lib/python3.8/site-packages/numpy/lib/stride_tricks.py\", line 182, in broadcast_to\n    return _broadcast_to(array, shape, subok=subok, readonly=True)\n  File \"/usr/lib/python3.8/site-packages/numpy/lib/stride_tricks.py\", line 125, in _broadcast_to\n    it = np.nditer(\n",
      "",
      "Stacktrace:",
      " [1] pyerr_check at /home/fusion809/.julia/packages/PyCall/zqDXB/src/exception.jl:60 [inlined]",
      " [2] pyerr_check at /home/fusion809/.julia/packages/PyCall/zqDXB/src/exception.jl:64 [inlined]",
      " [3] _handle_error(::String) at /home/fusion809/.julia/packages/PyCall/zqDXB/src/exception.jl:81",
      " [4] macro expansion at /home/fusion809/.julia/packages/PyCall/zqDXB/src/exception.jl:95 [inlined]",
      " [5] #110 at /home/fusion809/.julia/packages/PyCall/zqDXB/src/pyfncall.jl:43 [inlined]",
      " [6] disable_sigint at ./c.jl:446 [inlined]",
      " [7] __pycall! at /home/fusion809/.julia/packages/PyCall/zqDXB/src/pyfncall.jl:42 [inlined]",
      " [8] _pycall!(::PyCall.PyObject, ::PyCall.PyObject, ::Tuple{Array{Float64,2},Array{Float64,2},Array{Float64,2}}, ::Int64, ::Ptr{Nothing}) at /home/fusion809/.julia/packages/PyCall/zqDXB/src/pyfncall.jl:29",
      " [9] _pycall!(::PyCall.PyObject, ::PyCall.PyObject, ::Tuple{Array{Float64,2},Array{Float64,2},Array{Float64,2}}, ::Base.Iterators.Pairs{Union{},Union{},Tuple{},NamedTuple{(),Tuple{}}}) at /home/fusion809/.julia/packages/PyCall/zqDXB/src/pyfncall.jl:11",
      " [10] pycall(::PyCall.PyObject, ::Type{PyCall.PyAny}, ::Array{Float64,2}, ::Vararg{Array{Float64,2},N} where N; kwargs::Base.Iterators.Pairs{Union{},Union{},Tuple{},NamedTuple{(),Tuple{}}}) at /home/fusion809/.julia/packages/PyCall/zqDXB/src/pyfncall.jl:83",
      " [11] pycall(::PyCall.PyObject, ::Type{PyCall.PyAny}, ::Array{Float64,2}, ::Vararg{Array{Float64,2},N} where N) at /home/fusion809/.julia/packages/PyCall/zqDXB/src/pyfncall.jl:83",
      " [12] plot3D(::Array{Float64,2}, ::Vararg{Array{Float64,2},N} where N; kws::Base.Iterators.Pairs{Union{},Union{},Tuple{},NamedTuple{(),Tuple{}}}) at /home/fusion809/.julia/packages/PyPlot/XHEG0/src/plot3d.jl:62",
      " [13] plot3D(::Array{Float64,2}, ::Vararg{Array{Float64,2},N} where N) at /home/fusion809/.julia/packages/PyPlot/XHEG0/src/plot3d.jl:60",
      " [14] top-level scope at /data/GitHub/mine/maths/julia-scripts/Chaos/Lorenz/RK4.jl:66",
      " [15] top-level scope at In[20]:1"
     ]
    }
   ],
   "source": [
    "include(\"RK4.jl\")"
   ]
  },
  {
   "cell_type": "code",
   "execution_count": 23,
   "metadata": {},
   "outputs": [
    {
     "data": {
      "text/plain": [
       "10001×1 Array{Float64,2}:\n",
       " -2.0\n",
       " -1.5500650545872685\n",
       " -1.1860638089585982\n",
       " -0.8899197101377878\n",
       " -0.6471144795242094\n",
       " -0.44596940702930066\n",
       " -0.2770642325932444\n",
       " -0.13276895512126224\n",
       " -0.006867216755136435\n",
       "  0.10574663151769198\n",
       "  0.20931150312307073\n",
       "  0.3073965666384725\n",
       "  0.403060939834444\n",
       "  ⋮\n",
       " -0.6699483401000569\n",
       " -0.734234770579866\n",
       " -0.8053457138384273\n",
       " -0.8840238558865436\n",
       " -0.9710958697829928\n",
       " -1.067481279350135\n",
       " -1.174202151604273\n",
       " -1.2923936184918072\n",
       " -1.423315196378618\n",
       " -1.5683628236746945\n",
       " -1.7290814669265868\n",
       " -1.9071780455057126"
      ]
     },
     "execution_count": 23,
     "metadata": {},
     "output_type": "execute_result"
    }
   ],
   "source": [
    "x=float(x)"
   ]
  },
  {
   "cell_type": "code",
   "execution_count": 25,
   "metadata": {},
   "outputs": [
    {
     "ename": "PyCall.PyError",
     "evalue": "PyError ($(Expr(:escape, :(ccall(#= /home/fusion809/.julia/packages/PyCall/zqDXB/src/pyfncall.jl:43 =# @pysym(:PyObject_Call), PyPtr, (PyPtr, PyPtr, PyPtr), o, pyargsptr, kw))))) <class 'ValueError'>\nValueError('input operand has more dimensions than allowed by the axis remapping')\n  File \"/usr/lib/python3.8/site-packages/mpl_toolkits/mplot3d/axes3d.py\", line 1421, in plot\n    zs = np.broadcast_to(zs, len(xs))\n  File \"<__array_function__ internals>\", line 5, in broadcast_to\n  File \"/usr/lib/python3.8/site-packages/numpy/lib/stride_tricks.py\", line 182, in broadcast_to\n    return _broadcast_to(array, shape, subok=subok, readonly=True)\n  File \"/usr/lib/python3.8/site-packages/numpy/lib/stride_tricks.py\", line 125, in _broadcast_to\n    it = np.nditer(\n",
     "output_type": "error",
     "traceback": [
      "PyError ($(Expr(:escape, :(ccall(#= /home/fusion809/.julia/packages/PyCall/zqDXB/src/pyfncall.jl:43 =# @pysym(:PyObject_Call), PyPtr, (PyPtr, PyPtr, PyPtr), o, pyargsptr, kw))))) <class 'ValueError'>\nValueError('input operand has more dimensions than allowed by the axis remapping')\n  File \"/usr/lib/python3.8/site-packages/mpl_toolkits/mplot3d/axes3d.py\", line 1421, in plot\n    zs = np.broadcast_to(zs, len(xs))\n  File \"<__array_function__ internals>\", line 5, in broadcast_to\n  File \"/usr/lib/python3.8/site-packages/numpy/lib/stride_tricks.py\", line 182, in broadcast_to\n    return _broadcast_to(array, shape, subok=subok, readonly=True)\n  File \"/usr/lib/python3.8/site-packages/numpy/lib/stride_tricks.py\", line 125, in _broadcast_to\n    it = np.nditer(\n",
      "",
      "Stacktrace:",
      " [1] pyerr_check at /home/fusion809/.julia/packages/PyCall/zqDXB/src/exception.jl:60 [inlined]",
      " [2] pyerr_check at /home/fusion809/.julia/packages/PyCall/zqDXB/src/exception.jl:64 [inlined]",
      " [3] _handle_error(::String) at /home/fusion809/.julia/packages/PyCall/zqDXB/src/exception.jl:81",
      " [4] macro expansion at /home/fusion809/.julia/packages/PyCall/zqDXB/src/exception.jl:95 [inlined]",
      " [5] #110 at /home/fusion809/.julia/packages/PyCall/zqDXB/src/pyfncall.jl:43 [inlined]",
      " [6] disable_sigint at ./c.jl:446 [inlined]",
      " [7] __pycall! at /home/fusion809/.julia/packages/PyCall/zqDXB/src/pyfncall.jl:42 [inlined]",
      " [8] _pycall!(::PyCall.PyObject, ::PyCall.PyObject, ::Tuple{Array{Float64,2},Array{Float64,2},Array{Float64,2}}, ::Int64, ::Ptr{Nothing}) at /home/fusion809/.julia/packages/PyCall/zqDXB/src/pyfncall.jl:29",
      " [9] _pycall!(::PyCall.PyObject, ::PyCall.PyObject, ::Tuple{Array{Float64,2},Array{Float64,2},Array{Float64,2}}, ::Base.Iterators.Pairs{Union{},Union{},Tuple{},NamedTuple{(),Tuple{}}}) at /home/fusion809/.julia/packages/PyCall/zqDXB/src/pyfncall.jl:11",
      " [10] pycall(::PyCall.PyObject, ::Type{PyCall.PyAny}, ::Array{Float64,2}, ::Vararg{Array{Float64,2},N} where N; kwargs::Base.Iterators.Pairs{Union{},Union{},Tuple{},NamedTuple{(),Tuple{}}}) at /home/fusion809/.julia/packages/PyCall/zqDXB/src/pyfncall.jl:83",
      " [11] pycall(::PyCall.PyObject, ::Type{PyCall.PyAny}, ::Array{Float64,2}, ::Vararg{Array{Float64,2},N} where N) at /home/fusion809/.julia/packages/PyCall/zqDXB/src/pyfncall.jl:83",
      " [12] plot3D(::Array{Float64,2}, ::Vararg{Array{Float64,2},N} where N; kws::Base.Iterators.Pairs{Union{},Union{},Tuple{},NamedTuple{(),Tuple{}}}) at /home/fusion809/.julia/packages/PyPlot/XHEG0/src/plot3d.jl:62",
      " [13] plot3D(::Array{Float64,2}, ::Vararg{Array{Float64,2},N} where N) at /home/fusion809/.julia/packages/PyPlot/XHEG0/src/plot3d.jl:60",
      " [14] top-level scope at In[25]:1"
     ]
    }
   ],
   "source": [
    "plot3D(x,y,z)"
   ]
  },
  {
   "cell_type": "code",
   "execution_count": null,
   "metadata": {},
   "outputs": [],
   "source": []
  }
 ],
 "metadata": {
  "kernelspec": {
   "display_name": "Julia 1.4.2",
   "language": "julia",
   "name": "julia-1.4"
  },
  "language_info": {
   "file_extension": ".jl",
   "mimetype": "application/julia",
   "name": "julia",
   "version": "1.4.2"
  }
 },
 "nbformat": 4,
 "nbformat_minor": 4
}
