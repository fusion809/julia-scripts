{
 "cells": [
  {
   "cell_type": "code",
   "execution_count": 3,
   "metadata": {},
   "outputs": [
    {
     "ename": "LoadError",
     "evalue": "syntax: incomplete: premature end of input",
     "output_type": "error",
     "traceback": [
      "syntax: incomplete: premature end of input",
      ""
     ]
    }
   ],
   "source": [
    "using QuadGK\n",
    "function D(n,x)\n",
    "    integral, err = quadgk(theta -> sin(n*theta-x*sin(theta)), 0, pi, rtol=1e-8);\n",
    "    integral\n",
    "end;"
   ]
  },
  {
   "cell_type": "code",
   "execution_count": 12,
   "metadata": {},
   "outputs": [
    {
     "data": {
      "text/plain": [
       "0.5286984265507203"
      ]
     },
     "execution_count": 12,
     "metadata": {},
     "output_type": "execute_result"
    }
   ],
   "source": [
    "D(-4,pi)"
   ]
  },
  {
   "cell_type": "code",
   "execution_count": 1,
   "metadata": {},
   "outputs": [
    {
     "name": "stdout",
     "output_type": "stream",
     "text": [
      "\u001b[32m\u001b[1m  Updating\u001b[22m\u001b[39m registry at `~/.julia/registries/General`\n",
      "\u001b[32m\u001b[1m  Updating\u001b[22m\u001b[39m git-repo `https://github.com/JuliaRegistries/General.git`\n",
      "\u001b[?25l\u001b[2K\u001b[?25h\u001b[32m\u001b[1m Resolving\u001b[22m\u001b[39m package versions...\n",
      "\u001b[32m\u001b[1m  Updating\u001b[22m\u001b[39m `/data/.julia-20190315/environments/v1.1/Project.toml`\n",
      "\u001b[90m [no changes]\u001b[39m\n",
      "\u001b[32m\u001b[1m  Updating\u001b[22m\u001b[39m `/data/.julia-20190315/environments/v1.1/Manifest.toml`\n",
      "\u001b[90m [no changes]\u001b[39m\n"
     ]
    }
   ],
   "source": [
    "# My first Julia program\n",
    "# Import package manager\n",
    "using Pkg;\n",
    "\n",
    "# Install and import ODE\n",
    "Pkg.add(\"LinearAlgebra\")\n",
    "using LinearAlgebra;\n",
    "\n",
    "N         = 2000;\n",
    "a         = 0;\n",
    "b         = 50;\n",
    "k         = 1;\n",
    "# Column vector of integers from 0 to N\n",
    "n         = 0:1:N;\n",
    "nn        = 1:1:N-1;\n",
    "# Chebyshev extrema grid\n",
    "x         = -cos.(pi*n/N);\n",
    "xsub      = x[2:N];\n",
    "ysub      = (b-a)/2*xsub.+(a+b)/2;\n",
    "T         = cos.(acos.(x)*n');\n",
    "Tsub      = T[2:N,:];\n",
    "sqx       = -((xsub.^2).-1);\n",
    "Usub      = Diagonal(((sqx).^(-0.5)))*sin.(acos.(xsub)*n');\n",
    "dTsub     = Usub * Diagonal(n);\n",
    "dT        = [(-((-1).^n).*n.^2)'; dTsub; (n.^2)'];\n",
    "D1        = dT/T;\n",
    "# Second derivative of T(x) on extrema grid without endpoints\n",
    "d2Tsubr   = Diagonal(xsub) * Usub - Tsub*Diagonal(n);\n",
    "d2Tsub    = - Diagonal(((xsub.^2).-1).^(-1))*d2Tsubr*Diagonal(n);\n",
    "# Second derivative of T(x) on extrema grid with endpoints\n",
    "d2Top     = (((-1).^n).*(n.^2).*((n.^2).-1)/3)';\n",
    "d2Tbot    = ((n.^2).*((n.^2).-1)/3)';\n",
    "d2T       = [d2Top; d2Tsub; d2Tbot];\n",
    "# Second-order differentiation matrix for extrema grid\n",
    "D2        = D1*D1;\n",
    "# Second-order differentiation matrix for extrema grid without endpoints\n",
    "E1        = D1[2:N,2:N];\n",
    "E2        = D2[2:N,2:N];\n",
    "H         = -4/((b-a)^2) * E2 + k * Diagonal(ysub);\n",
    "EIG       = eigen(H);\n",
    "Y         = EIG.vectors;\n",
    "Lam       = EIG.values;"
   ]
  },
  {
   "cell_type": "code",
   "execution_count": 20,
   "metadata": {},
   "outputs": [],
   "source": [
    "DD1=dT/T; DD2=DD1^2 ; E2=DD2[2:N,2:N]; H         = -4/((b-a)^2) * E2 + k * Diagonal(ysub);"
   ]
  },
  {
   "cell_type": "code",
   "execution_count": 21,
   "metadata": {},
   "outputs": [],
   "source": [
    "EIG       = eigen(H);\n",
    "Y         = EIG.vectors;\n",
    "Lam       = EIG.values;"
   ]
  },
  {
   "cell_type": "code",
   "execution_count": 2,
   "metadata": {},
   "outputs": [],
   "source": [
    "Y=Y[:,sortperm(Lam)];\n",
    "Lam = sort(Lam);"
   ]
  },
  {
   "cell_type": "code",
   "execution_count": 3,
   "metadata": {},
   "outputs": [
    {
     "data": {
      "text/plain": [
       "2.3381074104595507"
      ]
     },
     "execution_count": 3,
     "metadata": {},
     "output_type": "execute_result"
    }
   ],
   "source": [
    "Lam[1]"
   ]
  },
  {
   "cell_type": "code",
   "execution_count": 5,
   "metadata": {},
   "outputs": [
    {
     "name": "stdout",
     "output_type": "stream",
     "text": [
      "\u001b[32m\u001b[1m Resolving\u001b[22m\u001b[39m package versions...\n"
     ]
    },
    {
     "data": {
      "image/png": "[encoded data removed]",
      "text/plain": [
       "Figure(PyObject <Figure size 640x480 with 1 Axes>)"
      ]
     },
     "metadata": {},
     "output_type": "display_data"
    },
    {
     "name": "stdout",
     "output_type": "stream",
     "text": [
      "\u001b[32m\u001b[1m  Updating\u001b[22m\u001b[39m `/data/.julia-20190315/environments/v1.1/Project.toml`\n",
      "\u001b[90m [no changes]\u001b[39m\n",
      "\u001b[32m\u001b[1m  Updating\u001b[22m\u001b[39m `/data/.julia-20190315/environments/v1.1/Manifest.toml`\n",
      "\u001b[90m [no changes]\u001b[39m\n"
     ]
    },
    {
     "data": {
      "text/plain": [
       "1-element Array{PyCall.PyObject,1}:\n",
       " PyObject <matplotlib.lines.Line2D object at 0x7f6271637630>"
      ]
     },
     "execution_count": 5,
     "metadata": {},
     "output_type": "execute_result"
    }
   ],
   "source": [
    "Pkg.add(\"PyPlot\")\n",
    "using PyPlot\n",
    "PyPlot.plot(ysub,Y[:,10])"
   ]
  },
  {
   "cell_type": "code",
   "execution_count": 39,
   "metadata": {},
   "outputs": [
    {
     "data": {
      "text/plain": [
       "511.4851590475714"
      ]
     },
     "execution_count": 39,
     "metadata": {},
     "output_type": "execute_result"
    }
   ],
   "source": [
    "EIG.values[660]"
   ]
  },
  {
   "cell_type": "code",
   "execution_count": 10,
   "metadata": {},
   "outputs": [
    {
     "ename": "MethodError",
     "evalue": "MethodError: no method matching +(::Irrational{:π}, ::StepRangeLen{Float64,Base.TwicePrecision{Float64},Base.TwicePrecision{Float64}})\nClosest candidates are:\n  +(::Any, ::Any, !Matched::Any, !Matched::Any...) at operators.jl:502\n  +(!Matched::PyCall.PyObject, ::Any) at /home/fusion809/.julia/packages/PyCall/ttONZ/src/pyoperators.jl:13\n  +(::Real, !Matched::Complex{Bool}) at complex.jl:291\n  ...",
     "output_type": "error",
     "traceback": [
      "MethodError: no method matching +(::Irrational{:π}, ::StepRangeLen{Float64,Base.TwicePrecision{Float64},Base.TwicePrecision{Float64}})\nClosest candidates are:\n  +(::Any, ::Any, !Matched::Any, !Matched::Any...) at operators.jl:502\n  +(!Matched::PyCall.PyObject, ::Any) at /home/fusion809/.julia/packages/PyCall/ttONZ/src/pyoperators.jl:13\n  +(::Real, !Matched::Complex{Bool}) at complex.jl:291\n  ...",
      "",
      "Stacktrace:",
      " [1] top-level scope at In[10]:9"
     ]
    }
   ],
   "source": [
    "N         = 10000;\n",
    "a         = 0;\n",
    "b         = 50;\n",
    "L         = 300;\n",
    "k         = 1;\n",
    "# Column vector of integers from 0 to N\n",
    "n         = 0:1:N;\n",
    "nn        = 1:1:N-1;\n",
    "# Chebyshev extrema grid\n",
    "t         = pi*(n/N.+1);\n",
    "x         = cos.(t);"
   ]
  },
  {
   "cell_type": "code",
   "execution_count": 23,
   "metadata": {},
   "outputs": [],
   "source": [
    "ysub      = L*((cot.(t./2)).^2);\n"
   ]
  },
  {
   "cell_type": "code",
   "execution_count": null,
   "metadata": {},
   "outputs": [
    {
     "name": "stdout",
     "output_type": "stream",
     "text": [
      "\u001b[32m\u001b[1m Resolving\u001b[22m\u001b[39m package versions...\n"
     ]
    }
   ],
   "source": [
    "# My first Julia program\n",
    "# Import package manager\n",
    "using Pkg;\n",
    "\n",
    "# Install and import ODE\n",
    "Pkg.add(\"LinearAlgebra\")\n",
    "using LinearAlgebra;\n",
    "\n",
    "N         = 10000;\n",
    "a         = 0;\n",
    "b         = 50;\n",
    "L         = 300;\n",
    "k         = 1;\n",
    "# Column vector of integers from 0 to N\n",
    "n         = 0:1:N;\n",
    "nn        = 1:1:N-1;\n",
    "# Chebyshev extrema grid\n",
    "t         = pi*(n/N.+1);\n",
    "x         = cos.(t);\n",
    "xsub      = x[2:N];\n",
    "y         = L*((cot.(t./2)).^2);\n",
    "ysub      = y[2:N];\n",
    "T         = cos.(acos.(x)*n');\n",
    "Tsub      = T[2:N,:];\n",
    "sqx       = -((xsub.^2).-1);\n",
    "Usub      = Diagonal(((sqx).^(-0.5)))*sin.(acos.(xsub)*n');\n",
    "dTsub     = Usub * Diagonal(n);\n",
    "dT        = [(-((-1).^n).*n.^2)'; dTsub; (n.^2)'];\n",
    "dT        = Diagonal(2*L./(((y.+L).^2)))*dT;\n",
    "D1        = dT/T;\n",
    "# Second derivative of T(x) on extrema grid without endpoints\n",
    "d2Tsubr   = Diagonal(xsub) * Usub - Tsub*Diagonal(n);\n",
    "d2Tsub    = - Diagonal(((xsub.^2).-1).^(-1))*d2Tsubr*Diagonal(n);\n",
    "# Second derivative of T(x) on extrema grid with endpoints\n",
    "d2Top     = (((-1).^n).*(n.^2).*((n.^2).-1)/3)';\n",
    "d2Tbot    = ((n.^2).*((n.^2).-1)/3)';\n",
    "d2T       = [d2Top; d2Tsub; d2Tbot];\n",
    "# Second-order differentiation matrix for extrema grid\n",
    "D2        = D1*D1;\n",
    "# Second-order differentiation matrix for extrema grid without endpoints\n",
    "E1        = D1[2:N,2:N];\n",
    "E2        = D2[2:N,2:N];\n",
    "H         = -E2 + k * Diagonal(ysub);\n",
    "EIG       = eigen(H);\n",
    "Y         = EIG.vectors;\n",
    "Lam       = EIG.values;"
   ]
  },
  {
   "cell_type": "code",
   "execution_count": null,
   "metadata": {},
   "outputs": [],
   "source": [
    "figure(1)\n",
    "plot(ysub(1:3*N/5), Y(1:3*N/5,1));\n",
    "figure(2)\n",
    "plot(ysub(1:3*N/5), Y(1:3*N/5,2));\n",
    "figure(3)\n",
    "plot(ysub(1:3*N/5), Y(1:3*N/5,Nfrag))"
   ]
  },
  {
   "cell_type": "code",
   "execution_count": null,
   "metadata": {},
   "outputs": [],
   "source": []
  }
 ],
 "metadata": {
  "kernelspec": {
   "display_name": "Julia 1.1.1",
   "language": "julia",
   "name": "julia-1.1"
  },
  "language_info": {
   "name": ""
  }
 },
 "nbformat": 4,
 "nbformat_minor": 4
}
