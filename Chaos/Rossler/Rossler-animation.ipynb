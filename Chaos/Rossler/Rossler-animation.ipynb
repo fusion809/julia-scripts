{
 "cells": [
  {
   "cell_type": "code",
   "execution_count": 1,
   "metadata": {},
   "outputs": [
    {
     "name": "stderr",
     "output_type": "stream",
     "text": [
      "┌ Info: Saved animation to \n",
      "│   fn = /data/GitHub/mine/math/julia-scripts/tmp.gif\n",
      "└ @ Plots /home/fusion809/.julia/packages/Plots/oiirH/src/animation.jl:90\n"
     ]
    },
    {
     "data": {
      "text/html": [
       "<img src=\"tmp.gif\" />"
      ],
      "text/plain": [
       "Plots.AnimatedGif(\"/data/GitHub/mine/math/julia-scripts/tmp.gif\")"
      ]
     },
     "execution_count": 1,
     "metadata": {},
     "output_type": "execute_result"
    }
   ],
   "source": [
    "# This is largely copied from code in the docs:\n",
    "# http://docs.juliaplots.org/latest/ (Author: Thomas Breloff)\n",
    "# My attempt at animation failed see Lorenz.jl and \n",
    "# https://discourse.julialang.org/t/how-to-create-an-animation-based-on-t-x-y-and-z-data/25672/4\n",
    "# define the Rossler attractor\n",
    "using Plots;\n",
    "mutable struct Rossler\n",
    "    dt; a; b; c; x; y; z\n",
    "end\n",
    "\n",
    "function step!(l::Rossler)\n",
    "    dx = -l.y-l.z              ; l.x += l.dt * dx\n",
    "    dy = l.x + l.a*l.y         ; l.y += l.dt * dy\n",
    "    dz = l.b+l.z*(l.x-l.c)     ; l.z += l.dt * dz\n",
    "end\n",
    "\n",
    "attractor = Rossler((dt = 0.02, a = 0.2, b = 0.2, c = 14, x = 1., y = 1., z = 1.)...)\n",
    "\n",
    "# initialize a 3D plot with 1 empty series\n",
    "plt = plot3d(1, xlim=(-25,25), ylim=(-30,25), zlim=(0,110),\n",
    "                title = \"Rossler Attractor\", marker = 2,\n",
    "                legendfontsize = 20,\n",
    "                guidefontsize = 20,\n",
    "                xlabel=\"x\",\n",
    "                ylabel=\"y\",\n",
    "                zlabel=\"z\",\n",
    "                size=(1920, 1080),\n",
    "                label=\"\")\n",
    "\n",
    "# build an animated gif by pushing new points to the plot, saving every 10th frame\n",
    "@gif for i=1:25000\n",
    "    step!(attractor)\n",
    "    push!(plt, attractor.x, attractor.y, attractor.z)\n",
    "end every 15"
   ]
  },
  {
   "cell_type": "code",
   "execution_count": null,
   "metadata": {},
   "outputs": [],
   "source": []
  }
 ],
 "metadata": {
  "kernelspec": {
   "display_name": "Julia 1.1.1",
   "language": "julia",
   "name": "julia-1.1"
  },
  "language_info": {
   "name": ""
  }
 },
 "nbformat": 4,
 "nbformat_minor": 4
}
