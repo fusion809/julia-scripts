{
 "cells": [
  {
   "cell_type": "code",
   "execution_count": 24,
   "metadata": {},
   "outputs": [
    {
     "name": "stdout",
     "output_type": "stream",
     "text": [
      "x is 3.141592653589793\n",
      "3 iterations were used\n",
      "difference is -1.2246467991473532e-16\n"
     ]
    }
   ],
   "source": [
    "# Use Newton's method to approximate pi by finding the zero of\n",
    "# sin(x) in the vicinity of x=22/7\n",
    "x = 22.0/7.0;\n",
    "\n",
    "difference = sin(x)/cos(x);\n",
    "i = 0;\n",
    "while abs(difference) > 1e-15\n",
    "    difference = sin(x)/cos(x);\n",
    "    x += - difference;\n",
    "    i += 1;\n",
    "end\n",
    "\n",
    "println(\"x is $(x)\")\n",
    "println(\"$(i) iterations were used\")\n",
    "println(\"difference is $(difference)\")"
   ]
  }
 ],
 "metadata": {
  "kernelspec": {
   "display_name": "Julia 1.4.2",
   "language": "julia",
   "name": "julia-1.4"
  },
  "language_info": {
   "file_extension": ".jl",
   "mimetype": "application/julia",
   "name": "julia",
   "version": "1.4.2"
  }
 },
 "nbformat": 4,
 "nbformat_minor": 4
}
