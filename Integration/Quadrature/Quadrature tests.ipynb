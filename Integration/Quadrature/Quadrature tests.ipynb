{
 "cells": [
  {
   "cell_type": "code",
   "execution_count": 1,
   "metadata": {},
   "outputs": [
    {
     "name": "stdout",
     "output_type": "stream",
     "text": [
      "int16 is 1.1422691960626603\n",
      "int20 is 1.1505149958732876\n"
     ]
    }
   ],
   "source": [
    "# Legendre quadrature\n",
    "# These values are from \n",
    "# https://pomax.github.io/bezierinfo/legendre-gauss.html\n",
    "# it does not seem to matter that the order is by absolute value\n",
    "# of nodes\n",
    "wi_xi_20 = [0.1527533871307258\t-0.0765265211334973;\n",
    "0.1527533871307258\t0.0765265211334973;\n",
    "0.1491729864726037\t-0.2277858511416451;\n",
    "0.1491729864726037\t0.2277858511416451;\n",
    "0.1420961093183820\t-0.3737060887154195;\n",
    "0.1420961093183820\t0.3737060887154195;\n",
    "0.1316886384491766\t-0.5108670019508271;\n",
    "0.1316886384491766\t0.5108670019508271;\n",
    "0.1181945319615184\t-0.6360536807265150;\n",
    "0.1181945319615184\t0.6360536807265150;\n",
    "0.1019301198172404\t-0.7463319064601508;\n",
    "0.1019301198172404\t0.7463319064601508;\n",
    "0.0832767415767048\t-0.8391169718222188;\n",
    "0.0832767415767048\t0.8391169718222188;\n",
    "0.0626720483341091\t-0.9122344282513259;\n",
    "0.0626720483341091\t0.9122344282513259;\n",
    "0.0406014298003869\t-0.9639719272779138;\n",
    "0.0406014298003869\t0.9639719272779138;\n",
    "0.0176140071391521\t-0.9931285991850949;\n",
    "0.0176140071391521\t0.9931285991850949];\n",
    "xi20 = wi_xi_20[:,2];\n",
    "wi20 = wi_xi_20[:,1];\n",
    "a = -pi;\n",
    "b = 0;\n",
    "ui20 = (b-a)/2*xi20.+(a+b)/2;\n",
    "g = 9.8;\n",
    "l = 1.0;\n",
    "int20 = (b-a)/2*sum(wi20./sqrt.(-2*g/l*sin.(ui20)))\n",
    "\n",
    "# As can be guessed, int16 is less accurate than int20\n",
    "xi_wi_16 = [-0.9894009350 0.0271524594;\n",
    "    -0.9445750231 0.0622535230;\n",
    "    -0.8656312024 0.0951585117;\n",
    "    -0.7554044084 0.1246289713;\n",
    "    -0.6178762444 0.1495959888;\n",
    "    -0.4580167777 0.1691565194;\n",
    "    -0.2816035508 0.1826034150;\n",
    "    -0.0950125098 0.1894506105;\n",
    "     0.0950125098 0.1894506105;\n",
    "     0.2816035508 0.1826034150;\n",
    "     0.4580167777 0.1691565194;\n",
    "     0.6178762444 0.1495959888;\n",
    "     0.7554044084 0.1246289713;\n",
    "     0.8656312024 0.0951585117;\n",
    "     0.9445750231 0.0622535239;\n",
    "     0.9894009350 0.0271524594];\n",
    "xi16 = xi_wi_16[:,1];\n",
    "wi16 = xi_wi_16[:,2];\n",
    "ui16 = (b-a)/2*xi16.+(a+b)/2;\n",
    "int16 = (b-a)/2*sum(wi16./sqrt.(-2*g/l*sin.(ui16)))\n",
    "\n",
    "println(\"int16 is $(int16)\")\n",
    "println(\"int20 is $(int20)\")"
   ]
  },
  {
   "cell_type": "code",
   "execution_count": 4,
   "metadata": {},
   "outputs": [
    {
     "name": "stdout",
     "output_type": "stream",
     "text": [
      "int is 1.1845248610876704\n"
     ]
    }
   ],
   "source": [
    "# Chebyshev quadrature\n",
    "N=20;\n",
    "n=1:N;\n",
    "x = cos.((2*n.-1)/(2*N)*pi);\n",
    "u = (b-a)/2*x.+(a+b)/2;\n",
    "int = (pi^2)/(2*N)*sqrt(l/(2*g))*sum(sqrt.((-(x.^2).+1)./cos.(pi/2*x)))\n",
    "\n",
    "println(\"int is $(int)\")"
   ]
  },
  {
   "cell_type": "code",
   "execution_count": 5,
   "metadata": {},
   "outputs": [
    {
     "name": "stderr",
     "output_type": "stream",
     "text": [
      "\u001b[32m\u001b[1m   Updating\u001b[22m\u001b[39m registry at `~/.julia/registries/General`\n"
     ]
    },
    {
     "name": "stdout",
     "output_type": "stream",
     "text": [
      "\u001b[?25l    "
     ]
    },
    {
     "name": "stderr",
     "output_type": "stream",
     "text": [
      "\u001b[32m\u001b[1m   Updating\u001b[22m\u001b[39m git-repo `https://github.com/JuliaRegistries/General.git`\n"
     ]
    },
    {
     "name": "stdout",
     "output_type": "stream",
     "text": [
      "\u001b[2K\u001b[?25h[1mFetching:\u001b[22m\u001b[39m [========================================>]  100.0 %[36m\u001b[1mFetching:\u001b[22m\u001b[39m [=====>                                   ]  11.5 %\u001b[36m\u001b[1mFetching:\u001b[22m\u001b[39m [========>                                ]  19.0 %                           ]  31.8 % [==================>                      ]  44.7 %57.6 %]  64.4 %\u001b[36m\u001b[1mFetching:\u001b[22m\u001b[39m [===============================>         ]  76.4 %>    ]  89.2 %\u001b[36m\u001b[1mFetching:\u001b[22m\u001b[39m [=======================================> ]  95.2 %\u001b[36m\u001b[1mFetching:\u001b[22m\u001b[39m [=======================================> ]  95.8 %\u001b[36m\u001b[1mFetching:\u001b[22m\u001b[39m [=======================================> ]  96.4 %"
     ]
    },
    {
     "name": "stderr",
     "output_type": "stream",
     "text": [
      "\u001b[32m\u001b[1m  Resolving\u001b[22m\u001b[39m package versions...\n",
      "\u001b[32m\u001b[1m   Updating\u001b[22m\u001b[39m `~/.julia/environments/v1.4/Project.toml`\n",
      "\u001b[90m [no changes]\u001b[39m\n",
      "\u001b[32m\u001b[1m   Updating\u001b[22m\u001b[39m `~/.julia/environments/v1.4/Manifest.toml`\n",
      "\u001b[90m [no changes]\u001b[39m\n"
     ]
    },
    {
     "data": {
      "text/plain": [
       "1.1845248572462983"
      ]
     },
     "execution_count": 5,
     "metadata": {},
     "output_type": "execute_result"
    }
   ],
   "source": [
    "using Pkg;\n",
    "Pkg.add(\"QuadGK\")\n",
    "using QuadGK;\n",
    "function f(x)\n",
    "    return 1/sqrt(2*g/l*abs(sin(x)))\n",
    "end\n",
    "\n",
    "quadgk(x -> f(x), -pi, 0, rtol=1e-14)[1]"
   ]
  },
  {
   "cell_type": "code",
   "execution_count": 9,
   "metadata": {},
   "outputs": [
    {
     "name": "stdout",
     "output_type": "stream",
     "text": [
      "int is 1.1845248359371636\n"
     ]
    }
   ],
   "source": [
    "# Chebyshev quadrature\n",
    "N=5;\n",
    "n=1:N;\n",
    "# Turns out the quadrature grid are the zeros of the Nth Chebyshev\n",
    "# polynomial\n",
    "x = cos.((2*n.-1)/(2*N)*pi);\n",
    "u = (b-a)/2*x.+(a+b)/2;\n",
    "int = (pi^2)/(2*N)*sqrt(l/(2*g))*sum(sqrt.((-(x.^2).+1)./cos.(pi/2*x)))\n",
    "\n",
    "println(\"int is $(int)\")"
   ]
  },
  {
   "cell_type": "markdown",
   "metadata": {},
   "source": [
    "Wolfram Alpha gives the exact solution:\n",
    "\n",
    "$\\sqrt{\\dfrac{1}{2.45}} K\\left(\\dfrac{1}{2}\\right) \\approx 1.1845248610876726$"
   ]
  },
  {
   "cell_type": "code",
   "execution_count": 12,
   "metadata": {},
   "outputs": [
    {
     "data": {
      "text/plain": [
       "1.1845248610876726"
      ]
     },
     "execution_count": 12,
     "metadata": {},
     "output_type": "execute_result"
    }
   ],
   "source": [
    "using SpecialFunctions; \n",
    "sqrt(1/2.45)*ellipk(1/2)"
   ]
  },
  {
   "cell_type": "code",
   "execution_count": 7,
   "metadata": {},
   "outputs": [
    {
     "data": {
      "text/plain": [
       "20-element Array{Float64,1}:\n",
       " -3.269436733918102e-15\n",
       "  3.369016658928398e-15\n",
       " -5.82016719913287e-16\n",
       " -2.2049832191018243e-15\n",
       "  5.51091059616309e-16\n",
       " -2.4499125789312946e-15\n",
       " -9.803364199544708e-16\n",
       " -2.6948419387607653e-15\n",
       " -7.354070601250002e-16\n",
       " -2.939771298590236e-15\n",
       " -4.904777002955296e-16\n",
       " -3.1847006584197066e-15\n",
       " -2.45548340466059e-16\n",
       " -3.4296300182491773e-15\n",
       " -6.189806365883577e-19\n",
       " -3.674559378078648e-15\n",
       "  2.443103791928823e-16\n",
       " -3.919488737908119e-15\n",
       "  4.892397390223529e-16\n",
       " -4.164418097737589e-15"
      ]
     },
     "execution_count": 7,
     "metadata": {},
     "output_type": "execute_result"
    }
   ],
   "source": []
  },
  {
   "cell_type": "code",
   "execution_count": 18,
   "metadata": {},
   "outputs": [
    {
     "data": {
      "text/plain": [
       "17.0"
      ]
     },
     "execution_count": 18,
     "metadata": {},
     "output_type": "execute_result"
    }
   ],
   "source": [
    "include(\"Legendre.jl\")\n",
    "legendre(0,3,2)"
   ]
  },
  {
   "cell_type": "code",
   "execution_count": 22,
   "metadata": {},
   "outputs": [
    {
     "data": {
      "text/plain": [
       "28.5"
      ]
     },
     "execution_count": 22,
     "metadata": {},
     "output_type": "execute_result"
    }
   ],
   "source": [
    "legendre(1,3,2)\n"
   ]
  },
  {
   "cell_type": "code",
   "execution_count": 19,
   "metadata": {},
   "outputs": [
    {
     "data": {
      "text/plain": [
       "17.0"
      ]
     },
     "execution_count": 19,
     "metadata": {},
     "output_type": "execute_result"
    }
   ],
   "source": [
    "1/2*(5*2^3-3*2)"
   ]
  },
  {
   "cell_type": "code",
   "execution_count": 21,
   "metadata": {},
   "outputs": [
    {
     "data": {
      "text/plain": [
       "28.5"
      ]
     },
     "execution_count": 21,
     "metadata": {},
     "output_type": "execute_result"
    }
   ],
   "source": [
    "1/2*(15*2^2-3)"
   ]
  },
  {
   "cell_type": "code",
   "execution_count": 160,
   "metadata": {},
   "outputs": [
    {
     "data": {
      "text/plain": [
       "1.6071711243782988e-10"
      ]
     },
     "execution_count": 160,
     "metadata": {},
     "output_type": "execute_result"
    }
   ],
   "source": [
    "i_wi_xi64 = [1\t0.0486909570091397\t-0.0243502926634244\n",
    "2\t0.0486909570091397\t0.0243502926634244\n",
    "3\t0.0485754674415034\t-0.0729931217877990\n",
    "4\t0.0485754674415034\t0.0729931217877990\n",
    "5\t0.0483447622348030\t-0.1214628192961206\n",
    "6\t0.0483447622348030\t0.1214628192961206\n",
    "7\t0.0479993885964583\t-0.1696444204239928\n",
    "8\t0.0479993885964583\t0.1696444204239928\n",
    "9\t0.0475401657148303\t-0.2174236437400071\n",
    "10\t0.0475401657148303\t0.2174236437400071\n",
    "11\t0.0469681828162100\t-0.2646871622087674\n",
    "12\t0.0469681828162100\t0.2646871622087674\n",
    "13\t0.0462847965813144\t-0.3113228719902110\n",
    "14\t0.0462847965813144\t0.3113228719902110\n",
    "15\t0.0454916279274181\t-0.3572201583376681\n",
    "16\t0.0454916279274181\t0.3572201583376681\n",
    "17\t0.0445905581637566\t-0.4022701579639916\n",
    "18\t0.0445905581637566\t0.4022701579639916\n",
    "19\t0.0435837245293235\t-0.4463660172534641\n",
    "20\t0.0435837245293235\t0.4463660172534641\n",
    "21\t0.0424735151236536\t-0.4894031457070530\n",
    "22\t0.0424735151236536\t0.4894031457070530\n",
    "23\t0.0412625632426235\t-0.5312794640198946\n",
    "24\t0.0412625632426235\t0.5312794640198946\n",
    "25\t0.0399537411327203\t-0.5718956462026340\n",
    "26\t0.0399537411327203\t0.5718956462026340\n",
    "27\t0.0385501531786156\t-0.6111553551723933\n",
    "28\t0.0385501531786156\t0.6111553551723933\n",
    "29\t0.0370551285402400\t-0.6489654712546573\n",
    "30\t0.0370551285402400\t0.6489654712546573\n",
    "31\t0.0354722132568824\t-0.6852363130542333\n",
    "32\t0.0354722132568824\t0.6852363130542333\n",
    "33\t0.0338051618371416\t-0.7198818501716109\n",
    "34\t0.0338051618371416\t0.7198818501716109\n",
    "35\t0.0320579283548516\t-0.7528199072605319\n",
    "36\t0.0320579283548516\t0.7528199072605319\n",
    "37\t0.0302346570724025\t-0.7839723589433414\n",
    "38\t0.0302346570724025\t0.7839723589433414\n",
    "39\t0.0283396726142595\t-0.8132653151227975\n",
    "40\t0.0283396726142595\t0.8132653151227975\n",
    "41\t0.0263774697150547\t-0.8406292962525803\n",
    "42\t0.0263774697150547\t0.8406292962525803\n",
    "43\t0.0243527025687109\t-0.8659993981540928\n",
    "44\t0.0243527025687109\t0.8659993981540928\n",
    "45\t0.0222701738083833\t-0.8893154459951141\n",
    "46\t0.0222701738083833\t0.8893154459951141\n",
    "47\t0.0201348231535302\t-0.9105221370785028\n",
    "48\t0.0201348231535302\t0.9105221370785028\n",
    "49\t0.0179517157756973\t-0.9295691721319396\n",
    "50\t0.0179517157756973\t0.9295691721319396\n",
    "51\t0.0157260304760247\t-0.9464113748584028\n",
    "52\t0.0157260304760247\t0.9464113748584028\n",
    "53\t0.0134630478967186\t-0.9610087996520538\n",
    "54\t0.0134630478967186\t0.9610087996520538\n",
    "55\t0.0111681394601311\t-0.9733268277899110\n",
    "56\t0.0111681394601311\t0.9733268277899110\n",
    "57\t0.0088467598263639\t-0.9833362538846260\n",
    "58\t0.0088467598263639\t0.9833362538846260\n",
    "59\t0.0065044579689784\t-0.9910133714767443\n",
    "60\t0.0065044579689784\t0.9910133714767443\n",
    "61\t0.0041470332605625\t-0.9963401167719553\n",
    "62\t0.0041470332605625\t0.9963401167719553\n",
    "63\t0.0017832807216964\t-0.9993050417357722\n",
    "64\t0.0017832807216964\t0.9993050417357722];\n",
    "xi64 = i_wi_xi64[:,3];\n",
    "wi64 = i_wi_xi64[:,2];\n",
    "a=0; b=100; ui64 = (b-a)/2*xi64.+(a+b)/2;\n",
    "using SpecialFunctions;\n",
    "(b-a)/2*sum(wi64.*airyai.(ui64.-2.33810741045976703848919725244673544063854014567238785248).*airyai.(ui64.-4.08794944413097061663698870145739106022476469910852975498))"
   ]
  },
  {
   "cell_type": "code",
   "execution_count": 158,
   "metadata": {},
   "outputs": [
    {
     "data": {
      "text/plain": [
       "0.5"
      ]
     },
     "execution_count": 158,
     "metadata": {},
     "output_type": "execute_result"
    }
   ],
   "source": [
    "using QuadGK;\n",
    "quadgk(x -> 1/x^2, 1, 2)[1]"
   ]
  },
  {
   "cell_type": "code",
   "execution_count": 130,
   "metadata": {},
   "outputs": [
    {
     "data": {
      "text/plain": [
       "0.8351032293132329"
      ]
     },
     "execution_count": 130,
     "metadata": {},
     "output_type": "execute_result"
    }
   ],
   "source": [
    "include(\"Chebyshev-Gauss_quadrature/Chebyshev-Gauss_quadrature.jl\")\n",
    "function f(x)\n",
    "    g = 9.8; l=1.0;\n",
    "    return 1/x\n",
    "end\n",
    "\n",
    "g=9.8; l=1.0;\n",
    "quadrature(f, 1, exp(1))"
   ]
  },
  {
   "cell_type": "code",
   "execution_count": 144,
   "metadata": {},
   "outputs": [
    {
     "ename": "LoadError",
     "evalue": "syntax: incomplete: premature end of input",
     "output_type": "error",
     "traceback": [
      "syntax: incomplete: premature end of input",
      ""
     ]
    }
   ],
   "source": [
    "a=-pi;\n",
    "b=0;\n",
    "N=1000;\n",
    "n=1:N;\n",
    "x=-cos.(pi*(2*nb-a)/2*x.+(a+b)/2;\n",
    "sol=(pi^2)/(2*N)*sqrt(l/(2*g))*sum(sqrt.(((-x.^2).+1))./sqrt.(-sin.(u)))"
   ]
  },
  {
   "cell_type": "code",
   "execution_count": 145,
   "metadata": {},
   "outputs": [
    {
     "data": {
      "text/plain": [
       "3.1945293631627067"
      ]
     },
     "execution_count": 145,
     "metadata": {},
     "output_type": "execute_result"
    }
   ],
   "source": [
    "x=-cos.(pi*(2*n.-1)/(2*N));\n",
    "pi*(exp(1)-1)/(2*N)*sum((sqrt.((-x.^2).+1)).*(((exp(1)-1)/2)*x.+(exp(1)+1)/2))"
   ]
  },
  {
   "cell_type": "code",
   "execution_count": 147,
   "metadata": {},
   "outputs": [
    {
     "data": {
      "text/plain": [
       "3.194528049465325"
      ]
     },
     "execution_count": 147,
     "metadata": {},
     "output_type": "execute_result"
    }
   ],
   "source": [
    "exp(2)/2-1/2"
   ]
  },
  {
   "cell_type": "code",
   "execution_count": null,
   "metadata": {},
   "outputs": [],
   "source": []
  }
 ],
 "metadata": {
  "kernelspec": {
   "display_name": "Julia 1.4.2",
   "language": "julia",
   "name": "julia-1.4"
  },
  "language_info": {
   "file_extension": ".jl",
   "mimetype": "application/julia",
   "name": "julia",
   "version": "1.5.2"
  }
 },
 "nbformat": 4,
 "nbformat_minor": 4
}
