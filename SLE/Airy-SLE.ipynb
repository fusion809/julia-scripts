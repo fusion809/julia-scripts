{
 "cells": [
  {
   "cell_type": "code",
   "execution_count": null,
   "metadata": {},
   "outputs": [],
   "source": [
    "# Airy problem solved using the rational transformation on the semi-infinite\n",
    "# domain that is listed in Boyd, 2000\n",
    "@time include(\"airy-rat.jl\")"
   ]
  },
  {
   "cell_type": "code",
   "execution_count": 11,
   "metadata": {},
   "outputs": [
    {
     "name": "stderr",
     "output_type": "stream",
     "text": [
      "\u001b[32m\u001b[1m  Resolving\u001b[22m\u001b[39m package versions...\n",
      "\u001b[32m\u001b[1m   Updating\u001b[22m\u001b[39m `/data/.julia-20190315/environments/v1.4/Project.toml`\n",
      "\u001b[90m [no changes]\u001b[39m\n",
      "\u001b[32m\u001b[1m   Updating\u001b[22m\u001b[39m `/data/.julia-20190315/environments/v1.4/Manifest.toml`\n",
      "\u001b[90m [no changes]\u001b[39m\n",
      "\u001b[32m\u001b[1m  Resolving\u001b[22m\u001b[39m package versions...\n",
      "\u001b[32m\u001b[1m   Updating\u001b[22m\u001b[39m `/data/.julia-20190315/environments/v1.4/Project.toml`\n",
      "\u001b[90m [no changes]\u001b[39m\n",
      "\u001b[32m\u001b[1m   Updating\u001b[22m\u001b[39m `/data/.julia-20190315/environments/v1.4/Manifest.toml`\n",
      "\u001b[90m [no changes]\u001b[39m\n",
      "\u001b[32m\u001b[1m  Resolving\u001b[22m\u001b[39m package versions...\n",
      "\u001b[32m\u001b[1m   Updating\u001b[22m\u001b[39m `/data/.julia-20190315/environments/v1.4/Project.toml`\n",
      "\u001b[90m [no changes]\u001b[39m\n",
      "\u001b[32m\u001b[1m   Updating\u001b[22m\u001b[39m `/data/.julia-20190315/environments/v1.4/Manifest.toml`\n",
      "\u001b[90m [no changes]\u001b[39m\n"
     ]
    },
    {
     "name": "stdout",
     "output_type": "stream",
     "text": [
      "RMS of eigenvalue error is 1.4796040812203412e-13\n",
      "730.967391 seconds (2.97 M allocations: 20.003 GiB, 0.16% gc time)\n"
     ]
    },
    {
     "data": {
      "text/plain": [
       "PyObject Text(0.5, 1.0, 'Semilog plot of the root mean square of eigenfunction error')"
      ]
     },
     "execution_count": 11,
     "metadata": {},
     "output_type": "execute_result"
    }
   ],
   "source": [
    "@time include(\"airy-linear.jl\")"
   ]
  },
  {
   "cell_type": "code",
   "execution_count": 14,
   "metadata": {},
   "outputs": [
    {
     "data": {
      "text/plain": [
       "eigenplots (generic function with 1 method)"
      ]
     },
     "execution_count": 14,
     "metadata": {},
     "output_type": "execute_result"
    }
   ],
   "source": [
    "function eigenplots()\n",
    "    # Eigenfunction plots\n",
    "    PyPlot.figure(1)\n",
    "    PyPlot.xlim((y[1],y[801]))\n",
    "    PyPlot.plot(y[1:801],eigenfunction_approx[1:801,1])\n",
    "    PyPlot.title(latexstring(\"Plot of the \", L\"1^\\mathrm{st}\", \" eigenfunction, corresponding to \", L\"\\lambda = \", \n",
    "    @sprintf(\"%.10g\", eigenvalue_approx[1])))\n",
    "    PyPlot.figure(2)\n",
    "    PyPlot.xlim((y[1],y[1201]))\n",
    "    PyPlot.plot(y[1:1201],eigenfunction_approx[1:1201,10])\n",
    "    PyPlot.title(latexstring(\"Plot of the \", L\"10^\\mathrm{th}\", \" eigenfunction, corresponding to \", L\"\\lambda = \", \n",
    "    @sprintf(\"%.10g\", eigenvalue_approx[10])))\n",
    "    PyPlot.figure(3)\n",
    "    PyPlot.xlim((y[1],y[2501]))\n",
    "    PyPlot.plot(y[1:2501],eigenfunction_approx[1:2501,100])\n",
    "    PyPlot.title(latexstring(\"Plot of the \", L\"100^\\mathrm{th}\", \" eigenfunction, corresponding to \", L\"\\lambda = \", \n",
    "    @sprintf(\"%.10g\", eigenvalue_approx[100])))\n",
    "    PyPlot.figure(4)\n",
    "    PyPlot.xlim((y[1],y[2501]))\n",
    "    PyPlot.plot(y[1:2501],eigenfunction_approx[1:2501,200])\n",
    "    PyPlot.title(latexstring(\"Plot of the \", L\"200^\\mathrm{th}\", \" eigenfunction, corresponding to \", L\"\\lambda = \", \n",
    "    @sprintf(\"%.10g\", eigenvalue_approx[200])))\n",
    "    # Semilog plot of eigenvalue errors\n",
    "    PyPlot.figure(5)\n",
    "    PyPlot.xlim((1,Nfrag))\n",
    "    PyPlot.semilogy(eigenvalue_error)\n",
    "    PyPlot.title(\"Semilog plot of eigenvalue errors\")\n",
    "    # Semilog plot of root mean square of eigenfunction errors\n",
    "    PyPlot.figure(6)\n",
    "    # The following line is required, as otherwise\n",
    "    # x from 0 to 10,000 is shown.\n",
    "    PyPlot.xlim((1,Nfrag))\n",
    "    PyPlot.semilogy(rms_of_eigenfunction_error)\n",
    "    PyPlot.title(\"Semilog plot of the root mean square of eigenfunction error\")\n",
    "end"
   ]
  },
  {
   "cell_type": "code",
   "execution_count": 16,
   "metadata": {},
   "outputs": [
    {
     "data": {
      "text/plain": [
       "PyObject Text(0.5, 1.0, 'Semilog plot of the root mean square of eigenfunction error')"
      ]
     },
     "execution_count": 16,
     "metadata": {},
     "output_type": "execute_result"
    }
   ],
   "source": [
    "eigenplots()"
   ]
  },
  {
   "cell_type": "code",
   "execution_count": null,
   "metadata": {},
   "outputs": [],
   "source": []
  }
 ],
 "metadata": {
  "kernelspec": {
   "display_name": "Julia 1.4.2",
   "language": "julia",
   "name": "julia-1.4"
  },
  "language_info": {
   "file_extension": ".jl",
   "mimetype": "application/julia",
   "name": "julia",
   "version": "1.4.2"
  },
  "nteract": {
   "version": "0.23.3"
  }
 },
 "nbformat": 4,
 "nbformat_minor": 4
}
